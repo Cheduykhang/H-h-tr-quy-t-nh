{
 "cells": [
  {
   "cell_type": "code",
   "execution_count": 8,
   "id": "e6f96082-6fa2-4eb8-815c-a9c0cc724f47",
   "metadata": {},
   "outputs": [],
   "source": [
    "import numpy as np"
   ]
  },
  {
   "cell_type": "code",
   "execution_count": 9,
   "id": "a54e2ad6-d5f0-414a-9aaf-4fc3dd2f7c13",
   "metadata": {},
   "outputs": [],
   "source": [
    "def objective_function(theta):\n",
    "    theta1, theta2 = theta\n",
    "    return - (theta1**2 + theta2**2)"
   ]
  },
  {
   "cell_type": "code",
   "execution_count": 10,
   "id": "db2eef6b-047e-4287-ace4-93257cdd3ecb",
   "metadata": {},
   "outputs": [],
   "source": [
    "def hooke_jeeves(theta_init, alpha_init, c, epsilon, max_iter=1000):\n",
    "    theta = np.array(theta_init, dtype=float)\n",
    "    alpha = alpha_init\n",
    "    n = len(theta)\n",
    "    u = objective_function(theta)\n",
    "    iter_count = 0\n",
    "\n",
    "    while alpha > epsilon and iter_count < max_iter:\n",
    "        iter_count += 1\n",
    "        best_u = u\n",
    "        best_move = None\n",
    "\n",
    "        # Thăm dò\n",
    "        for i in range(n):\n",
    "            for sgn in [-1, 1]:\n",
    "                theta_new = theta.copy()\n",
    "                theta_new[i] += sgn * alpha\n",
    "                u_new = objective_function(theta_new)\n",
    "                if u_new > best_u:\n",
    "                    best_u = u_new\n",
    "                    best_move = theta_new.copy()\n",
    "\n",
    "        # Cập nhật\n",
    "        if best_move is not None:\n",
    "            theta = best_move.copy()\n",
    "            u = best_u\n",
    "        else:\n",
    "            alpha *= c\n",
    "\n",
    "        # In thông tin mỗi bước (tùy chọn)\n",
    "        print(f\"Iteration {iter_count}: theta = {theta}, alpha = {alpha}, u = {u}\")\n",
    "\n",
    "    return theta\n"
   ]
  },
  {
   "cell_type": "code",
   "execution_count": 11,
   "id": "c741196f-c850-4c12-a3e6-66e235948068",
   "metadata": {},
   "outputs": [],
   "source": [
    "theta_init = [1, 1]   # Điểm khởi đầu\n",
    "alpha_init = 0.5      # Kích thước bước ban đầu\n",
    "c = 0.5               # Hệ số giảm kích thước bước\n",
    "epsilon = 0.01        # Ngưỡng dừng"
   ]
  },
  {
   "cell_type": "code",
   "execution_count": 12,
   "id": "697e323a-ff4b-48a6-9774-1f5f5f0773f0",
   "metadata": {},
   "outputs": [
    {
     "name": "stdout",
     "output_type": "stream",
     "text": [
      "Iteration 1: theta = [0.5 1. ], alpha = 0.5, u = -1.25\n",
      "Iteration 2: theta = [0.5 0.5], alpha = 0.5, u = -0.5\n",
      "Iteration 3: theta = [0.  0.5], alpha = 0.5, u = -0.25\n",
      "Iteration 4: theta = [0. 0.], alpha = 0.5, u = -0.0\n",
      "Iteration 5: theta = [0. 0.], alpha = 0.25, u = -0.0\n",
      "Iteration 6: theta = [0. 0.], alpha = 0.125, u = -0.0\n",
      "Iteration 7: theta = [0. 0.], alpha = 0.0625, u = -0.0\n",
      "Iteration 8: theta = [0. 0.], alpha = 0.03125, u = -0.0\n",
      "Iteration 9: theta = [0. 0.], alpha = 0.015625, u = -0.0\n",
      "Iteration 10: theta = [0. 0.], alpha = 0.0078125, u = -0.0\n"
     ]
    }
   ],
   "source": [
    "optimal_theta = hooke_jeeves(theta_init, alpha_init, c, epsilon)"
   ]
  },
  {
   "cell_type": "code",
   "execution_count": 13,
   "id": "f0a56605-fae5-4226-9b71-50f6fbe5b526",
   "metadata": {},
   "outputs": [
    {
     "name": "stdout",
     "output_type": "stream",
     "text": [
      "\n",
      "Giá trị tối ưu tìm được: theta = [0. 0.]\n",
      "Giá trị hàm mục tiêu tại theta tối ưu: u = -0.0\n"
     ]
    }
   ],
   "source": [
    "print(f\"\\nGiá trị tối ưu tìm được: theta = {optimal_theta}\")\n",
    "print(f\"Giá trị hàm mục tiêu tại theta tối ưu: u = {objective_function(optimal_theta)}\")"
   ]
  },
  {
   "cell_type": "code",
   "execution_count": null,
   "id": "0edff301-0e6e-4f5f-9647-c5000545274d",
   "metadata": {},
   "outputs": [],
   "source": []
  }
 ],
 "metadata": {
  "kernelspec": {
   "display_name": "Python 3 (ipykernel)",
   "language": "python",
   "name": "python3"
  },
  "language_info": {
   "codemirror_mode": {
    "name": "ipython",
    "version": 3
   },
   "file_extension": ".py",
   "mimetype": "text/x-python",
   "name": "python",
   "nbconvert_exporter": "python",
   "pygments_lexer": "ipython3",
   "version": "3.11.7"
  }
 },
 "nbformat": 4,
 "nbformat_minor": 5
}
